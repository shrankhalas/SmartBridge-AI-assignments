{
  "nbformat": 4,
  "nbformat_minor": 0,
  "metadata": {
    "colab": {
      "provenance": []
    },
    "kernelspec": {
      "name": "python3",
      "display_name": "Python 3"
    },
    "language_info": {
      "name": "python"
    }
  },
  "cells": [
    {
      "cell_type": "markdown",
      "source": [
        "# AI Assignment 1 - House Price India Dataset\n"
      ],
      "metadata": {
        "id": "kpYCshGGspV6"
      }
    },
    {
      "cell_type": "code",
      "source": [
        "# Importing Libraries\n",
        "import pandas as pd\n",
        "import matplotlib.pyplot as plt\n",
        "import seaborn as sns\n",
        "import warnings\n",
        "warnings.filterwarnings('ignore')\n"
      ],
      "metadata": {
        "id": "gdWBWRcZsvg6"
      },
      "execution_count": null,
      "outputs": []
    },
    {
      "cell_type": "code",
      "source": [
        "# Load Dataset\n",
        "df = pd.read_csv(\"House Price India.csv\")\n",
        "df.columns = df.columns.str.strip()\n",
        "print(df.columns)\n",
        "df.head()"
      ],
      "metadata": {
        "id": "lVpOva_zswDr"
      },
      "execution_count": null,
      "outputs": []
    },
    {
      "cell_type": "code",
      "source": [
        "# Univariate Analysis\n",
        "\n",
        "# Distribution of Price\n",
        "plt.figure(figsize=(10, 6))\n",
        "sns.histplot(df['Price'], kde=True)\n",
        "plt.title('Distribution of House Prices')\n",
        "plt.xlabel('Price (Lakhs)')\n",
        "plt.ylabel('Frequency')\n",
        "plt.show()\n",
        "# Countplot of Area Type\n",
        "plt.figure(figsize=(8, 5))\n",
        "sns.countplot(x='area_type', data=df)\n",
        "plt.title('Count of Area Types')\n",
        "plt.xticks(rotation=45)\n",
        "plt.show()"
      ],
      "metadata": {
        "id": "Cy-SOxJJsv0W"
      },
      "execution_count": null,
      "outputs": []
    },
    {
      "cell_type": "code",
      "source": [
        "# Bivariate Analysis\n",
        "\n",
        "# Price vs Area Type\n",
        "plt.figure(figsize=(10, 6))\n",
        "sns.boxplot(x='area_type', y='price', data=df)\n",
        "plt.title('Price vs Area Type')\n",
        "plt.xticks(rotation=45)\n",
        "plt.show()\n",
        "\n",
        "# Price vs Number of Bathrooms\n",
        "plt.figure(figsize=(10, 6))\n",
        "sns.boxplot(x='bath', y='price', data=df)\n",
        "plt.title('Price vs Number of Bathrooms')\n",
        "plt.xticks(rotation=0)\n",
        "plt.show()"
      ],
      "metadata": {
        "id": "6toJ3fXxs1uQ"
      },
      "execution_count": null,
      "outputs": []
    },
    {
      "cell_type": "code",
      "source": [
        "# Multivariate Analysis\n",
        "\n",
        "# Correlation Heatmap\n",
        "plt.figure(figsize=(10, 8))\n",
        "sns.heatmap(df.corr(), annot=True, cmap='coolwarm')\n",
        "plt.title('Correlation Heatmap')\n",
        "plt.show()\n"
      ],
      "metadata": {
        "id": "Y3nrRp0hs1nM"
      },
      "execution_count": null,
      "outputs": []
    },
    {
      "cell_type": "code",
      "source": [
        "# Descriptive Stats\n",
        "print(\"Descriptive Statistics:\")\n",
        "print(df.describe())\n"
      ],
      "metadata": {
        "id": "dfBWaGKutQoZ"
      },
      "execution_count": null,
      "outputs": []
    },
    {
      "cell_type": "code",
      "source": [
        "# Check Missing Values\n",
        "print(\"\\nMissing Values:\")\n",
        "print(df.isnull().sum())"
      ],
      "metadata": {
        "id": "YJwpxgvWtWQs"
      },
      "execution_count": null,
      "outputs": []
    },
    {
      "cell_type": "code",
      "execution_count": null,
      "metadata": {
        "id": "J-7_HEcXsmRo"
      },
      "outputs": [],
      "source": [
        "# Drop rows with missing values\n",
        "df_cleaned = df.dropna()\n",
        "\n",
        "print(\"\\nShape before cleaning:\", df.shape)\n",
        "print(\"Shape after cleaning:\", df_cleaned.shape)\n",
        "\n",
        "df_cleaned.to_csv(\"Cleaned_Bengaluru_House_Data.csv\", index=False)"
      ]
    }
  ]
}